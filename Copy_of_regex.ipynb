{
  "nbformat": 4,
  "nbformat_minor": 0,
  "metadata": {
    "colab": {
      "provenance": [],
      "authorship_tag": "ABX9TyPGXLjbvPkZBKTjoxgzS8yR",
      "include_colab_link": true
    },
    "kernelspec": {
      "name": "python3",
      "display_name": "Python 3"
    },
    "language_info": {
      "name": "python"
    }
  },
  "cells": [
    {
      "cell_type": "markdown",
      "metadata": {
        "id": "view-in-github",
        "colab_type": "text"
      },
      "source": [
        "<a href=\"https://colab.research.google.com/github/Natalya-Ukraine/REGEX-password-validation/blob/main/Copy_of_regex.ipynb\" target=\"_parent\"><img src=\"https://colab.research.google.com/assets/colab-badge.svg\" alt=\"Open In Colab\"/></a>"
      ]
    },
    {
      "cell_type": "markdown",
      "source": [
        "First task is regular expression in Python\n"
      ],
      "metadata": {
        "id": "m6pIziXAopLZ"
      }
    },
    {
      "cell_type": "code",
      "execution_count": null,
      "metadata": {
        "id": "f5KBJEAEm6M3"
      },
      "outputs": [],
      "source": [
        "import re"
      ]
    },
    {
      "cell_type": "markdown",
      "source": [],
      "metadata": {
        "id": "WtCXg1xFSeUL"
      }
    },
    {
      "cell_type": "markdown",
      "source": [
        "# Password Validation in Python (REGEX)\n",
        "\n",
        "\n",
        "Write regex that will validate a password to meet   the following criteria:\n",
        "\n",
        "*  At least  6 characters long\n",
        "*  Uppercase letters A-Z\n",
        "*  Lowercase letters  a-z\n",
        "*  Numbers   0-9\n",
        "*  Any of spetial characrers: @#$%^&+= (all optional)\n",
        "\n",
        "\n",
        "\n",
        "\n",
        "\n",
        "\n"
      ],
      "metadata": {
        "id": "CDbCjxrOC_V4"
      }
    },
    {
      "cell_type": "code",
      "source": [
        "regex =  '[A-Za-z0-9@#$%^&+=]{8,}'"
      ],
      "metadata": {
        "id": "8pbvL-6ZHMfn"
      },
      "execution_count": null,
      "outputs": []
    },
    {
      "cell_type": "code",
      "source": [
        "import re\n",
        "pwd = input(\"enter a password\")"
      ],
      "metadata": {
        "colab": {
          "base_uri": "https://localhost:8080/"
        },
        "id": "ojnor-VoPisv",
        "outputId": "6074bf43-e62e-4bc3-b02a-ae4f513b9e98"
      },
      "execution_count": null,
      "outputs": [
        {
          "name": "stdout",
          "output_type": "stream",
          "text": [
            "enter a passwordhey123456\n"
          ]
        }
      ]
    },
    {
      "cell_type": "code",
      "source": [
        "pwd"
      ],
      "metadata": {
        "colab": {
          "base_uri": "https://localhost:8080/",
          "height": 35
        },
        "id": "LveUK23IQLRZ",
        "outputId": "663a20d9-9e8c-406f-9e6e-4ffe176265cd"
      },
      "execution_count": null,
      "outputs": [
        {
          "output_type": "execute_result",
          "data": {
            "text/plain": [
              "'hey123456'"
            ],
            "application/vnd.google.colaboratory.intrinsic+json": {
              "type": "string"
            }
          },
          "metadata": {},
          "execution_count": 13
        }
      ]
    },
    {
      "cell_type": "code",
      "source": [
        "re.fullmatch(regex, pwd)"
      ],
      "metadata": {
        "colab": {
          "base_uri": "https://localhost:8080/"
        },
        "id": "ifx9aaOJQRkR",
        "outputId": "5fb15fa6-3fa7-44fb-9357-f8499d667e06"
      },
      "execution_count": null,
      "outputs": [
        {
          "output_type": "execute_result",
          "data": {
            "text/plain": [
              "<re.Match object; span=(0, 9), match='hey123456'>"
            ]
          },
          "metadata": {},
          "execution_count": 15
        }
      ]
    },
    {
      "cell_type": "code",
      "source": [
        "if re.fullmatch(regex, pwd):\n",
        "  print(\"congradulations, there is a match\")\n",
        "else:\n",
        "  print(\"sorry, there is no mutch\")"
      ],
      "metadata": {
        "colab": {
          "base_uri": "https://localhost:8080/"
        },
        "id": "LSM6OcGCRV3I",
        "outputId": "6eb990d8-b7e1-4b4d-cd97-4c1dfb7d3ffc"
      },
      "execution_count": null,
      "outputs": [
        {
          "output_type": "stream",
          "name": "stdout",
          "text": [
            "congradulations, there is a match\n"
          ]
        }
      ]
    },
    {
      "cell_type": "markdown",
      "source": [
        "Write regex that will validate a password to make sure it meets ALL  the following criteria:\n",
        "\n",
        "*  At least  6 characters long\n",
        "*  Contains uppercase letter\n",
        "*  Contains lowercase letter\n",
        "*  Contains a number\n",
        "\n",
        "Valid passwords will only be alphanumeric characters"
      ],
      "metadata": {
        "id": "Vt9UqUb8SiQK"
      }
    },
    {
      "cell_type": "code",
      "source": [
        "regex = '(?=.*[A_Z])(?=.*[a-z])(?=.*[0-9]{6,})'"
      ],
      "metadata": {
        "id": "h0q6LloWTSIj"
      },
      "execution_count": null,
      "outputs": []
    },
    {
      "cell_type": "code",
      "source": [
        "if re.fullmatch(regex, pwd):\n",
        "  print(\"There is a match\")\n",
        "else:\n",
        "  print(\"Sorry no much\")"
      ],
      "metadata": {
        "colab": {
          "base_uri": "https://localhost:8080/"
        },
        "id": "LEbXLw81Vrif",
        "outputId": "b6900860-1a69-48b4-9927-1c40936ccede"
      },
      "execution_count": null,
      "outputs": [
        {
          "output_type": "stream",
          "name": "stdout",
          "text": [
            "Sorry no much\n"
          ]
        }
      ]
    },
    {
      "cell_type": "markdown",
      "source": [],
      "metadata": {
        "id": "PlhOdZ0YDLBi"
      }
    },
    {
      "cell_type": "markdown",
      "source": [
        "# Email Validation"
      ],
      "metadata": {
        "id": "zHcBCrpLgIB7"
      }
    },
    {
      "cell_type": "code",
      "source": [
        "inputs =['rog45@gmail.com', 'r_duke78@outlook.com', 's.rog78@outlook.com']"
      ],
      "metadata": {
        "id": "N7U0pDmygT7h"
      },
      "execution_count": null,
      "outputs": []
    },
    {
      "cell_type": "code",
      "source": [
        "regex = '^(\\w|\\.|\\_|\\-)+[@]\\w+[.]\\w{2,3}$'"
      ],
      "metadata": {
        "id": "rVK4h5eQg-kr"
      },
      "execution_count": null,
      "outputs": []
    },
    {
      "cell_type": "code",
      "source": [
        "[re.fullmatch(regex, x) for x in inputs]"
      ],
      "metadata": {
        "colab": {
          "base_uri": "https://localhost:8080/"
        },
        "id": "PZ3pFkeah6ks",
        "outputId": "b91f4a3f-1783-4ecb-fca0-77de328cf704"
      },
      "execution_count": null,
      "outputs": [
        {
          "output_type": "execute_result",
          "data": {
            "text/plain": [
              "[<re.Match object; span=(0, 15), match='rog45@gmail.com'>,\n",
              " <re.Match object; span=(0, 20), match='r_duke78@outlook.com'>,\n",
              " <re.Match object; span=(0, 19), match='s.rog78@outlook.com'>]"
            ]
          },
          "metadata": {},
          "execution_count": 21
        }
      ]
    },
    {
      "cell_type": "markdown",
      "source": [
        "# Username Validation"
      ],
      "metadata": {
        "id": "huYcIG65i3AS"
      }
    },
    {
      "cell_type": "code",
      "source": [
        "inputs = ['a_roger', 'aroger', 'a.roger_de', 'a.roger_2']"
      ],
      "metadata": {
        "id": "ABE5Tzh4i7XE"
      },
      "execution_count": null,
      "outputs": []
    },
    {
      "cell_type": "code",
      "source": [
        "regex = '^[a-zA-Z_.]+$'"
      ],
      "metadata": {
        "id": "PSuiAabRjO6M"
      },
      "execution_count": null,
      "outputs": []
    },
    {
      "cell_type": "code",
      "source": [
        "[re.fullmatch(regex, x) for x in inputs]"
      ],
      "metadata": {
        "colab": {
          "base_uri": "https://localhost:8080/"
        },
        "id": "pIGHPkJbjegF",
        "outputId": "bdd16244-ee44-4850-8f43-271d4a83c010"
      },
      "execution_count": null,
      "outputs": [
        {
          "output_type": "execute_result",
          "data": {
            "text/plain": [
              "[<re.Match object; span=(0, 7), match='a_roger'>,\n",
              " <re.Match object; span=(0, 6), match='aroger'>,\n",
              " <re.Match object; span=(0, 10), match='a.roger_de'>,\n",
              " None]"
            ]
          },
          "metadata": {},
          "execution_count": 26
        }
      ]
    }
  ]
}